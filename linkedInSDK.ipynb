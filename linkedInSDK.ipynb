{
 "cells": [
  {
   "cell_type": "code",
   "execution_count": 14,
   "metadata": {},
   "outputs": [],
   "source": [
    "from CoegilSdk import Coegil\n",
    "sdk = Coegil(\"RmcxkJ9K3hv5aRvSgrgh-SD8bDaH5qvBhSsdIaE4W-DySzlVAiu9pfcWvWlGVb\")\n"
   ]
  },
  {
   "cell_type": "code",
   "execution_count": 20,
   "metadata": {},
   "outputs": [],
   "source": [
    "f = 'fdfd'\n",
    "import json\n",
    "with open('microsoft.json') as json_file:\n",
    "    data = json_file.read()\n"
   ]
  },
  {
   "cell_type": "code",
   "execution_count": 21,
   "metadata": {},
   "outputs": [],
   "source": [
    "sdk.save_file('788c72c80c2111edb8760eeba65ae471','linkedin_users.json',data)\n"
   ]
  },
  {
   "cell_type": "code",
   "execution_count": null,
   "metadata": {},
   "outputs": [],
   "source": [
    "from linkedInPush import linkedin\n",
    "import warnings\n",
    "warnings.filterwarnings(\"ignore\")\n",
    "username = 'darien.nouri@nyu.edu'\n",
    "password = \"Amrikor11\"\n",
    "api_key = 'RmcxkJ9K3hv5aRvSgrgh-SD8bDaH5qvBhSsdIaE4W-DySzlVAiu9pfcWvWlGVb'\n",
    "\n",
    "\n",
    "companiesz =  ['Zoom','Wayfair','Walmart','Verizon','UnitedHealth','Uber','Twitter','Tesla','Splunk','Siemens','RSM','Roche','PayPal','Oracle','NVIDIA','Meta','Mastercard','LinkedIn','Intel','IBM','HPE','HP','Honeywell','HCA','Google','Dice','Dell','Comcast','Citi','Cisco','Capital','Booz','Boeing','AT&T','Apple','Adobe','Procter & Gamble','JPMorgan Chase & Co','Johnson & Johnson']\n",
    "\n",
    "\n",
    "from selenium.webdriver.common.keys import Keys\n",
    "scraper = linkedin()\n",
    "scraper.main2(companiesz)"
   ]
  },
  {
   "cell_type": "code",
   "execution_count": null,
   "metadata": {},
   "outputs": [],
   "source": []
  },
  {
   "cell_type": "code",
   "execution_count": 42,
   "metadata": {},
   "outputs": [
    {
     "name": "stdout",
     "output_type": "stream",
     "text": [
      "2022\n"
     ]
    }
   ],
   "source": [
    "import re\n",
    "date_check = '2004 - 2006'\n",
    "date = 'June 23, 2022, Adam reported directly to Mitchell'\n",
    "date_regex = re.findall(r\"[0-9]{4}\", date_check)[-1]\n",
    "local_date_regex = re.findall('[1-3][0-9]{3}',date)\n",
    "for i in local_date_regex:\n",
    "    print(i)\n",
    "    if int(date_regex) < int(i):\n",
    "        continue"
   ]
  }
 ],
 "metadata": {
  "kernelspec": {
   "display_name": "Python 3.10.2 64-bit",
   "language": "python",
   "name": "python3"
  },
  "language_info": {
   "codemirror_mode": {
    "name": "ipython",
    "version": 3
   },
   "file_extension": ".py",
   "mimetype": "text/x-python",
   "name": "python",
   "nbconvert_exporter": "python",
   "pygments_lexer": "ipython3",
   "version": "3.10.2"
  },
  "orig_nbformat": 4,
  "vscode": {
   "interpreter": {
    "hash": "dc9c7980817498d5cfe00bd7c654077962d1af3a5442dc82a3473029eaab2355"
   }
  }
 },
 "nbformat": 4,
 "nbformat_minor": 2
}
